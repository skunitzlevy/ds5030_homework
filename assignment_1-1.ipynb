{
 "cells": [
  {
   "cell_type": "markdown",
   "id": "87b91d83",
   "metadata": {},
   "source": [
    "# Assignment 1\n",
    "### Understanding Uncertainty\n",
    "### Due 9/5"
   ]
  },
  {
   "cell_type": "markdown",
   "id": "380e339f",
   "metadata": {},
   "source": [
    "1. Create a new public repo on Github under your account. Include a readme file.\n",
    "2. Clone it to your machine. Put this file into that repo.\n",
    "3. Use the following function to download the example data for the course:"
   ]
  },
  {
   "cell_type": "code",
   "execution_count": 2,
   "id": "2d62b4f6",
   "metadata": {},
   "outputs": [
    {
     "name": "stdout",
     "output_type": "stream",
     "text": [
      "Download file already exists\n",
      "Data directory already exists\n"
     ]
    }
   ],
   "source": [
    "def download_data(force=False):\n",
    "    \"\"\"Download and extract course data from Zenodo.\"\"\"\n",
    "    import urllib.request, zipfile, os\n",
    "    \n",
    "    zip_path = 'data.zip'\n",
    "    data_dir = 'data'\n",
    "    \n",
    "    if not os.path.exists(zip_path) or force:\n",
    "        print(\"Downloading course data\")\n",
    "        urllib.request.urlretrieve(\n",
    "            'https://zenodo.org/records/16954427/files/data.zip?download=1',\n",
    "            zip_path\n",
    "        )\n",
    "        print(\"Download complete\")\n",
    "    else:\n",
    "        print(\"Download file already exists\")\n",
    "        \n",
    "    if not os.path.exists(data_dir) or force:\n",
    "        print(\"Extracting data files...\")\n",
    "        with zipfile.ZipFile(zip_path, 'r') as zip_ref:\n",
    "            zip_ref.extractall(data_dir)\n",
    "        print(\"Data extracted\")\n",
    "    else:\n",
    "        print(\"Data directory already exists\")\n",
    "\n",
    "download_data()"
   ]
  },
  {
   "cell_type": "markdown",
   "id": "01db0045",
   "metadata": {},
   "source": [
    "4. Open one of the datasets using Pandas:\n",
    "    1. `ames_prices.csv`: Housing characteristics and prices\n",
    "    2. `college_completion.csv`: Public, nonprofit, and for-profit educational institutions, graduation rates, and financial aid\n",
    "    3. `ForeignGifts_edu.csv`: Monetary and in-kind transfers from foreign entities to U.S. educational institutions\n",
    "    4. `iowa.csv`: Liquor sales in Iowa, at the transaction level\n",
    "    5. `metabric.csv`: Cancer patient and outcome data\n",
    "    6. `mn_police_use_of_force.csv`: Records of physical altercations between Minnessota police and private citizens\n",
    "    7. `nhanes_data_17_18.csv`: National Health and Nutrition Examination Survey\n",
    "    8. `tuna.csv`: Yellowfin Tuna Genome (I don't recommend this one; it's just a sequence of G, C, A, T )\n",
    "    9. `va_procurement.csv`: Public spending by the state of Virginia"
   ]
  },
  {
   "cell_type": "code",
   "execution_count": 3,
   "id": "bd93d8a0",
   "metadata": {},
   "outputs": [],
   "source": [
    "import numpy as np\n",
    "import pandas as pd\n",
    "import seaborn as sns"
   ]
  },
  {
   "cell_type": "code",
   "execution_count": 4,
   "id": "5e009f64",
   "metadata": {},
   "outputs": [
    {
     "data": {
      "text/html": [
       "<div>\n",
       "<style scoped>\n",
       "    .dataframe tbody tr th:only-of-type {\n",
       "        vertical-align: middle;\n",
       "    }\n",
       "\n",
       "    .dataframe tbody tr th {\n",
       "        vertical-align: top;\n",
       "    }\n",
       "\n",
       "    .dataframe thead th {\n",
       "        text-align: right;\n",
       "    }\n",
       "</style>\n",
       "<table border=\"1\" class=\"dataframe\">\n",
       "  <thead>\n",
       "    <tr style=\"text-align: right;\">\n",
       "      <th></th>\n",
       "      <th>0</th>\n",
       "      <th>1</th>\n",
       "      <th>2</th>\n",
       "      <th>3</th>\n",
       "      <th>4</th>\n",
       "    </tr>\n",
       "  </thead>\n",
       "  <tbody>\n",
       "    <tr>\n",
       "      <th>Unnamed: 0</th>\n",
       "      <td>1209821</td>\n",
       "      <td>1511053</td>\n",
       "      <td>410883</td>\n",
       "      <td>1360394</td>\n",
       "      <td>1180847</td>\n",
       "    </tr>\n",
       "    <tr>\n",
       "      <th>Entity Description</th>\n",
       "      <td>Virginia Polytechnic Institute and State Unive...</td>\n",
       "      <td>Virginia Department of Energy</td>\n",
       "      <td>Department of Corrections - Academy</td>\n",
       "      <td>Old Dominion University</td>\n",
       "      <td>Longwood University</td>\n",
       "    </tr>\n",
       "    <tr>\n",
       "      <th>NIGP #</th>\n",
       "      <td>91577.0</td>\n",
       "      <td>20468.0</td>\n",
       "      <td>38542.0</td>\n",
       "      <td>49000.0</td>\n",
       "      <td>5000.0</td>\n",
       "    </tr>\n",
       "    <tr>\n",
       "      <th>NIGP Description</th>\n",
       "      <td>Telephone Services, Long Distance and Local (I...</td>\n",
       "      <td>Peripherals, Miscellaneous: Joy Sticks, Graphi...</td>\n",
       "      <td>Entrees, Meat (Includes Beef and Pork)</td>\n",
       "      <td>LABORATORY EQUIPMENT, ACCESSORIES AND SUPPLIES...</td>\n",
       "      <td>ART EQUIPMENT AND SUPPLIES</td>\n",
       "    </tr>\n",
       "    <tr>\n",
       "      <th>Item Description</th>\n",
       "      <td>-10K 14-17' DF IND FORKLIFT0550610</td>\n",
       "      <td>Fellowes Microbanreg Mouse Pad - Black</td>\n",
       "      <td>Performance Foodservice  Invoice# 5219606  Del...</td>\n",
       "      <td>SystemETF# *********     RS020  Ø1 TappedPostS...</td>\n",
       "      <td>Scotch Multi-Purpose Scissors, 7 Inches, Strai...</td>\n",
       "    </tr>\n",
       "    <tr>\n",
       "      <th>Order #</th>\n",
       "      <td>A208_P4426539</td>\n",
       "      <td>PCO04672013</td>\n",
       "      <td>PO04394339</td>\n",
       "      <td>PO04579739-V2</td>\n",
       "      <td>PO04601721</td>\n",
       "    </tr>\n",
       "    <tr>\n",
       "      <th>Quantity Ordered</th>\n",
       "      <td>1.0</td>\n",
       "      <td>12.0</td>\n",
       "      <td>1.0</td>\n",
       "      <td>3.0</td>\n",
       "      <td>74.0</td>\n",
       "    </tr>\n",
       "    <tr>\n",
       "      <th>Unit Price</th>\n",
       "      <td>1895.0</td>\n",
       "      <td>5.0</td>\n",
       "      <td>234.2</td>\n",
       "      <td>11.51</td>\n",
       "      <td>3.57</td>\n",
       "    </tr>\n",
       "    <tr>\n",
       "      <th>Unit of Measure</th>\n",
       "      <td>EA</td>\n",
       "      <td>EA</td>\n",
       "      <td>LO</td>\n",
       "      <td>EA</td>\n",
       "      <td>EA</td>\n",
       "    </tr>\n",
       "    <tr>\n",
       "      <th>Line Total</th>\n",
       "      <td>1895.0</td>\n",
       "      <td>60.0</td>\n",
       "      <td>234.2</td>\n",
       "      <td>34.53</td>\n",
       "      <td>264.18</td>\n",
       "    </tr>\n",
       "    <tr>\n",
       "      <th>Order Status</th>\n",
       "      <td>Ordered</td>\n",
       "      <td>Ordered</td>\n",
       "      <td>Ordered</td>\n",
       "      <td>Ordered</td>\n",
       "      <td>Ordered</td>\n",
       "    </tr>\n",
       "    <tr>\n",
       "      <th>Procurement Transaction Type</th>\n",
       "      <td>99.0</td>\n",
       "      <td>20.0</td>\n",
       "      <td>20.0</td>\n",
       "      <td>15.0</td>\n",
       "      <td>20.0</td>\n",
       "    </tr>\n",
       "    <tr>\n",
       "      <th>Procurement Transaction Desc</th>\n",
       "      <td>IMPORT</td>\n",
       "      <td>Supplies - Non-Technology</td>\n",
       "      <td>Supplies - Non-Technology</td>\n",
       "      <td>Equipment - Technology</td>\n",
       "      <td>Supplies - Non-Technology</td>\n",
       "    </tr>\n",
       "    <tr>\n",
       "      <th>Vendor Name</th>\n",
       "      <td>Sunbelt Rentals Inc</td>\n",
       "      <td>TSRC - State of VA</td>\n",
       "      <td>Performance Foodservice VA</td>\n",
       "      <td>ThorLabs Inc</td>\n",
       "      <td>School Specialty LLC</td>\n",
       "    </tr>\n",
       "    <tr>\n",
       "      <th>Vendor Address State</th>\n",
       "      <td>VA</td>\n",
       "      <td>VA</td>\n",
       "      <td>VA</td>\n",
       "      <td>NJ</td>\n",
       "      <td>WI</td>\n",
       "    </tr>\n",
       "  </tbody>\n",
       "</table>\n",
       "</div>"
      ],
      "text/plain": [
       "                                                                              0  \\\n",
       "Unnamed: 0                                                              1209821   \n",
       "Entity Description            Virginia Polytechnic Institute and State Unive...   \n",
       "NIGP #                                                                  91577.0   \n",
       "NIGP Description              Telephone Services, Long Distance and Local (I...   \n",
       "Item Description                             -10K 14-17' DF IND FORKLIFT0550610   \n",
       "Order #                                                           A208_P4426539   \n",
       "Quantity Ordered                                                            1.0   \n",
       "Unit Price                                                               1895.0   \n",
       "Unit of Measure                                                              EA   \n",
       "Line Total                                                               1895.0   \n",
       "Order Status                                                            Ordered   \n",
       "Procurement Transaction Type                                               99.0   \n",
       "Procurement Transaction Desc                                             IMPORT   \n",
       "Vendor Name                                                 Sunbelt Rentals Inc   \n",
       "Vendor Address State                                                         VA   \n",
       "\n",
       "                                                                              1  \\\n",
       "Unnamed: 0                                                              1511053   \n",
       "Entity Description                                Virginia Department of Energy   \n",
       "NIGP #                                                                  20468.0   \n",
       "NIGP Description              Peripherals, Miscellaneous: Joy Sticks, Graphi...   \n",
       "Item Description                         Fellowes Microbanreg Mouse Pad - Black   \n",
       "Order #                                                             PCO04672013   \n",
       "Quantity Ordered                                                           12.0   \n",
       "Unit Price                                                                  5.0   \n",
       "Unit of Measure                                                              EA   \n",
       "Line Total                                                                 60.0   \n",
       "Order Status                                                            Ordered   \n",
       "Procurement Transaction Type                                               20.0   \n",
       "Procurement Transaction Desc                          Supplies - Non-Technology   \n",
       "Vendor Name                                                  TSRC - State of VA   \n",
       "Vendor Address State                                                         VA   \n",
       "\n",
       "                                                                              2  \\\n",
       "Unnamed: 0                                                               410883   \n",
       "Entity Description                          Department of Corrections - Academy   \n",
       "NIGP #                                                                  38542.0   \n",
       "NIGP Description                         Entrees, Meat (Includes Beef and Pork)   \n",
       "Item Description              Performance Foodservice  Invoice# 5219606  Del...   \n",
       "Order #                                                              PO04394339   \n",
       "Quantity Ordered                                                            1.0   \n",
       "Unit Price                                                                234.2   \n",
       "Unit of Measure                                                              LO   \n",
       "Line Total                                                                234.2   \n",
       "Order Status                                                            Ordered   \n",
       "Procurement Transaction Type                                               20.0   \n",
       "Procurement Transaction Desc                          Supplies - Non-Technology   \n",
       "Vendor Name                                          Performance Foodservice VA   \n",
       "Vendor Address State                                                         VA   \n",
       "\n",
       "                                                                              3  \\\n",
       "Unnamed: 0                                                              1360394   \n",
       "Entity Description                                      Old Dominion University   \n",
       "NIGP #                                                                  49000.0   \n",
       "NIGP Description              LABORATORY EQUIPMENT, ACCESSORIES AND SUPPLIES...   \n",
       "Item Description              SystemETF# *********     RS020  Ø1 TappedPostS...   \n",
       "Order #                                                           PO04579739-V2   \n",
       "Quantity Ordered                                                            3.0   \n",
       "Unit Price                                                                11.51   \n",
       "Unit of Measure                                                              EA   \n",
       "Line Total                                                                34.53   \n",
       "Order Status                                                            Ordered   \n",
       "Procurement Transaction Type                                               15.0   \n",
       "Procurement Transaction Desc                             Equipment - Technology   \n",
       "Vendor Name                                                        ThorLabs Inc   \n",
       "Vendor Address State                                                         NJ   \n",
       "\n",
       "                                                                              4  \n",
       "Unnamed: 0                                                              1180847  \n",
       "Entity Description                                          Longwood University  \n",
       "NIGP #                                                                   5000.0  \n",
       "NIGP Description                                     ART EQUIPMENT AND SUPPLIES  \n",
       "Item Description              Scotch Multi-Purpose Scissors, 7 Inches, Strai...  \n",
       "Order #                                                              PO04601721  \n",
       "Quantity Ordered                                                           74.0  \n",
       "Unit Price                                                                 3.57  \n",
       "Unit of Measure                                                              EA  \n",
       "Line Total                                                               264.18  \n",
       "Order Status                                                            Ordered  \n",
       "Procurement Transaction Type                                               20.0  \n",
       "Procurement Transaction Desc                          Supplies - Non-Technology  \n",
       "Vendor Name                                                School Specialty LLC  \n",
       "Vendor Address State                                                         WI  "
      ]
     },
     "execution_count": 4,
     "metadata": {},
     "output_type": "execute_result"
    }
   ],
   "source": [
    "va = pd.read_csv('./data/va_procurement.csv')\n",
    "va.head().T"
   ]
  },
  {
   "cell_type": "code",
   "execution_count": 5,
   "id": "7cf8b976",
   "metadata": {},
   "outputs": [
    {
     "data": {
      "text/plain": [
       "(95902, 15)"
      ]
     },
     "execution_count": 5,
     "metadata": {},
     "output_type": "execute_result"
    }
   ],
   "source": [
    "va.shape"
   ]
  },
  {
   "cell_type": "markdown",
   "id": "fa5cade1",
   "metadata": {},
   "source": [
    "5. Pick two or three variables and briefly analyze them\n",
    "    - Is it a categorical or numeric variable?\n",
    "    - How many missing values are there? (`df['var'].isna()` and `np.sum()`)\n",
    "    - If categorical, tabulate the values (`df['var'].value_counts()`) and if numeric, get a summary (`df['var'].describe()`)"
   ]
  },
  {
   "cell_type": "markdown",
   "id": "50d373b8",
   "metadata": {},
   "source": [
    "##### Line Total - Numeric variable"
   ]
  },
  {
   "cell_type": "code",
   "execution_count": 6,
   "id": "79820218",
   "metadata": {},
   "outputs": [
    {
     "name": "stdout",
     "output_type": "stream",
     "text": [
      "2164498949.93079\n",
      "0\n",
      "count    9.590200e+04\n",
      "mean     2.256990e+04\n",
      "std      1.167073e+06\n",
      "min     -9.625000e+04\n",
      "25%      3.241250e+01\n",
      "50%      1.342050e+02\n",
      "75%      6.669800e+02\n",
      "max      2.094900e+08\n",
      "Name: Line Total, dtype: float64\n"
     ]
    }
   ],
   "source": [
    "print(np.sum(va['Line Total']))\n",
    "print(np.sum(va['Line Total'].isna()))\n",
    "print(va['Line Total'].describe())"
   ]
  },
  {
   "cell_type": "code",
   "execution_count": 7,
   "id": "e526ea5e",
   "metadata": {},
   "outputs": [
    {
     "data": {
      "text/plain": [
       "<Axes: xlabel='Line Total'>"
      ]
     },
     "execution_count": 7,
     "metadata": {},
     "output_type": "execute_result"
    },
    {
     "data": {
      "image/png": "[encoded data removed]",
      "text/plain": [
       "<Figure size 640x480 with 1 Axes>"
      ]
     },
     "metadata": {},
     "output_type": "display_data"
    }
   ],
   "source": [
    "sns.rugplot(va['Line Total'])"
   ]
  },
  {
   "cell_type": "markdown",
   "id": "4c59bb40",
   "metadata": {},
   "source": [
    "##### Entity Description - Categorical variable"
   ]
  },
  {
   "cell_type": "code",
   "execution_count": 15,
   "id": "ddc22723",
   "metadata": {},
   "outputs": [
    {
     "name": "stdout",
     "output_type": "stream",
     "text": [
      "221\n",
      "0\n",
      "Entity Description\n",
      "University of Virginia                                 17868\n",
      "Virginia Polytechnic Institute and State University    10684\n",
      "Virginia Department of Transportation                   8791\n",
      "Virginia Commonwealth University                        5980\n",
      "George Mason University                                 4195\n",
      "                                                       ...  \n",
      "Montgomery County Public Schools                           1\n",
      "Botetourt County Public Schools                            1\n",
      "Virginia Peninsula Regional Jail                           1\n",
      "Bristol Virginia Public Schools                            1\n",
      "Clarke County                                              1\n",
      "Name: count, Length: 221, dtype: int64\n"
     ]
    }
   ],
   "source": [
    "print(len(va['Entity Description'].unique()))\n",
    "print(np.sum(va['Entity Description'].isna()))\n",
    "print(va['Entity Description'].value_counts())"
   ]
  },
  {
   "cell_type": "code",
   "execution_count": 9,
   "id": "bbeea61f",
   "metadata": {},
   "outputs": [
    {
     "data": {
      "text/plain": [
       "<Axes: xlabel='Entity Description', ylabel='Count'>"
      ]
     },
     "execution_count": 9,
     "metadata": {},
     "output_type": "execute_result"
    },
    {
     "data": {
      "image/png": "[encoded data removed]",
      "text/plain": [
       "<Figure size 640x480 with 1 Axes>"
      ]
     },
     "metadata": {},
     "output_type": "display_data"
    }
   ],
   "source": [
    "sns.histplot(va['Entity Description'])"
   ]
  },
  {
   "cell_type": "code",
   "execution_count": 16,
   "id": "4df5fcc6",
   "metadata": {},
   "outputs": [
    {
     "name": "stdout",
     "output_type": "stream",
     "text": [
      "10875\n",
      "0\n",
      "Vendor Name\n",
      "TSRC - State of VA                              4569\n",
      "Virginia Distribution Center - VDC - DGS        4315\n",
      "W W Grainger Inc                                1846\n",
      "Amazon com LLC                                  1794\n",
      "Fisher Scientific Company, LLC                  1460\n",
      "                                                ... \n",
      "Omron Electronics LLC                              1\n",
      "Patterson Pope Inc                                 1\n",
      "Assessment Technologies Institute LLC              1\n",
      "PricewaterhouseCoopers Advisory Services LLC       1\n",
      "Pilot Institute                                    1\n",
      "Name: count, Length: 10875, dtype: int64\n"
     ]
    }
   ],
   "source": [
    "print(len(va['Vendor Name'].unique()))\n",
    "print(np.sum(va['Vendor Name'].isna()))\n",
    "print(va['Vendor Name'].value_counts())"
   ]
  },
  {
   "cell_type": "markdown",
   "id": "dbf2318a",
   "metadata": {},
   "source": [
    "6. What are some questions and prediction tools you could create using these data? Who would the stakeholder be for that prediction tool? What practical or ethical questions would it create? What other data would you want, that are not available in your data?"
   ]
  },
  {
   "cell_type": "markdown",
   "id": "1b2636d1",
   "metadata": {},
   "source": [
    "##### Questions for this dataset include:\n",
    "What type of work are vendors doing in the state of Virginia? How much are they getting paid?\n",
    "- Total contract value by vendor / Average contract value by vendor / Types of contracts by vendor\n",
    "\n",
    "The same questions apply to purchasers.\n",
    "Total contract value by purchaser / Total spent by purchaser / Types of contracts by purchaser\n",
    "\n",
    "Do vendors appear to operate in certain geographies, or are they all over the state?\n",
    "- Need to incorporate external data for a rigorous analysis.\n",
    "\n",
    "##### Predictive tools for vendors:\n",
    "- When is the next time a purchaser needs XYZ good or service? (e.g. lifetime of an HVAC system is 18 years)\n",
    "- If a high school bought XYZ good or service, what is the probability similar schools like them will need the same thing?\n",
    "- Which purchasers spend the most money in types of business that I can bid for?\n",
    "- Which purchasers have the least competition per dollar spent in my type of business?\n",
    "\n",
    "##### Predictive tools for purchasers:\n",
    "- Who are some companies to reach out to in my area if I need XYZ good or service?\n",
    "- Who are small businesses I can support that are getting a foothold in the government contracting space? (it is common in government contracting to identify businesses by socioeconomic codes like woman-owned or veteran-owned)\n",
    "- Can we identify duplicative spending? Can we prevent ourselves from making purchases for items which another county already has?\n",
    "- Can we consolidate contracts to get a better deal?\n",
    "\n",
    "##### Ethical questions:\n",
    "- During their market research, should government buyers limit the scope of vendors to people who have already done the job?\n",
    "- Would access to such data be expensive or restricted to large vendors, so that they have an even greater advantage over small businesses?\n",
    "- Would consolidating contracts squeeze vendors in an already uncertain economic environment? (i.e. while dealing with tariff impacts)\n",
    "\n",
    "##### Other data that would be interesting:\n",
    "- Geographic data about the location of purchasers and vendors\n",
    "- Google star ratings for services companies\n",
    "- Percent of revenue for contractors (esp. public companies)"
   ]
  },
  {
   "cell_type": "markdown",
   "id": "a4a7ddc7",
   "metadata": {},
   "source": [
    "7. Commit your work to the repo (`git commit -am 'Finish assignment'` at the command line, or use the Git panel in VS Code). Push your work back to Github and submit the link on Canvas in the assignment tab."
   ]
  }
 ],
 "metadata": {
  "kernelspec": {
   "display_name": "ds6001",
   "language": "python",
   "name": "python3"
  },
  "language_info": {
   "codemirror_mode": {
    "name": "ipython",
    "version": 3
   },
   "file_extension": ".py",
   "mimetype": "text/x-python",
   "name": "python",
   "nbconvert_exporter": "python",
   "pygments_lexer": "ipython3",
   "version": "3.13.5"
  }
 },
 "nbformat": 4,
 "nbformat_minor": 5
}
