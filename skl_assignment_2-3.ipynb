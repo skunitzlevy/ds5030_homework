{
 "cells": [
  {
   "cell_type": "markdown",
   "id": "87b91d83",
   "metadata": {},
   "source": [
    "# Assignment 2\n",
    "### Understanding Uncertainty\n",
    "### Due 9/12"
   ]
  },
  {
   "cell_type": "markdown",
   "id": "f512d6bb",
   "metadata": {},
   "source": [
    "#### Author: Sam Kunitz-Levy\n",
    "#### Date: September 10, 2025"
   ]
  },
  {
   "cell_type": "code",
   "execution_count": 2,
   "id": "c27f4593",
   "metadata": {},
   "outputs": [],
   "source": [
    "import numpy as np\n",
    "import pandas as pd\n",
    "import seaborn as sns\n",
    "import matplotlib.pyplot as plt"
   ]
  },
  {
   "cell_type": "markdown",
   "id": "177860d3",
   "metadata": {},
   "source": [
    "##### Download data"
   ]
  },
  {
   "cell_type": "code",
   "execution_count": 3,
   "id": "9346a751",
   "metadata": {},
   "outputs": [
    {
     "data": {
      "text/plain": [
       "'data'"
      ]
     },
     "execution_count": 3,
     "metadata": {},
     "output_type": "execute_result"
    }
   ],
   "source": [
    "import urllib.request\n",
    "import os\n",
    "\n",
    "def download_data(force=False):\n",
    "    \"\"\"Download and extract course data from Zenodo.\"\"\"\n",
    "    import urllib.request\n",
    "    import zipfile\n",
    "    import os\n",
    "    \n",
    "    zip_path = 'data.zip'\n",
    "    data_dir = 'data'\n",
    "    \n",
    "    if not os.path.exists(zip_path) or force:\n",
    "        print(\"Downloading course data...\")\n",
    "        urllib.request.urlretrieve(\n",
    "            'https://zenodo.org/records/16954427/files/data.zip?download=1',\n",
    "            zip_path\n",
    "        )\n",
    "        print(\"Download complete\")\n",
    "    \n",
    "    if not os.path.exists(data_dir):\n",
    "        print(\"Extracting data files...\")\n",
    "        with zipfile.ZipFile(zip_path, 'r') as zip_ref:\n",
    "            zip_ref.extractall(data_dir)\n",
    "        print(\"Data extracted\")\n",
    "    \n",
    "    return data_dir\n",
    "\n",
    "download_data()"
   ]
  },
  {
   "cell_type": "markdown",
   "id": "896f98cd",
   "metadata": {},
   "source": [
    "##### Question 1"
   ]
  },
  {
   "cell_type": "markdown",
   "id": "380e339f",
   "metadata": {},
   "source": [
    "1. 'State Bottle Retail' is the price at which the bottle is sold, while 'State Bottle Cost' is the price the state pays for a bottle.\n",
    "- How do you define the most profitable item? Why? Explain your thinking.\n",
    "- Use `.groupby` calculations to determine the most profitable liquors sold in Iowa.\n",
    "- Make a plot of the top liquors."
   ]
  },
  {
   "cell_type": "code",
   "execution_count": 4,
   "id": "4325ded2",
   "metadata": {},
   "outputs": [],
   "source": [
    "idf = pd.read_csv('./data/iowa.csv')"
   ]
  },
  {
   "cell_type": "code",
   "execution_count": 5,
   "id": "6dfbce22",
   "metadata": {},
   "outputs": [
    {
     "data": {
      "text/html": [
       "<div>\n",
       "<style scoped>\n",
       "    .dataframe tbody tr th:only-of-type {\n",
       "        vertical-align: middle;\n",
       "    }\n",
       "\n",
       "    .dataframe tbody tr th {\n",
       "        vertical-align: top;\n",
       "    }\n",
       "\n",
       "    .dataframe thead th {\n",
       "        text-align: right;\n",
       "    }\n",
       "</style>\n",
       "<table border=\"1\" class=\"dataframe\">\n",
       "  <thead>\n",
       "    <tr style=\"text-align: right;\">\n",
       "      <th></th>\n",
       "      <th>Invoice/Item Number</th>\n",
       "      <th>Date</th>\n",
       "      <th>Store Number</th>\n",
       "      <th>Store Name</th>\n",
       "      <th>Zip Code</th>\n",
       "      <th>Category Name</th>\n",
       "      <th>Vendor Name</th>\n",
       "      <th>Item Number</th>\n",
       "      <th>Item Description</th>\n",
       "      <th>Bottle Volume (ml)</th>\n",
       "      <th>State Bottle Cost</th>\n",
       "      <th>State Bottle Retail</th>\n",
       "      <th>Bottles Sold</th>\n",
       "      <th>Sale (Dollars)</th>\n",
       "    </tr>\n",
       "  </thead>\n",
       "  <tbody>\n",
       "    <tr>\n",
       "      <th>154781</th>\n",
       "      <td>INV-52884700159</td>\n",
       "      <td>11/09/2022</td>\n",
       "      <td>2642</td>\n",
       "      <td>HY-VEE WINE AND SPIRITS / PELLA</td>\n",
       "      <td>50219</td>\n",
       "      <td>STRAIGHT RYE WHISKIES</td>\n",
       "      <td>INFINIUM SPIRITS</td>\n",
       "      <td>27175</td>\n",
       "      <td>TEMPLETON RYE 4YR</td>\n",
       "      <td>1000</td>\n",
       "      <td>21.00</td>\n",
       "      <td>31.50</td>\n",
       "      <td>1</td>\n",
       "      <td>31.50</td>\n",
       "    </tr>\n",
       "    <tr>\n",
       "      <th>154815</th>\n",
       "      <td>INV-55791600071</td>\n",
       "      <td>02/13/2023</td>\n",
       "      <td>3773</td>\n",
       "      <td>BENZ DISTRIBUTING</td>\n",
       "      <td>52401</td>\n",
       "      <td>STRAIGHT RYE WHISKIES</td>\n",
       "      <td>INFINIUM SPIRITS</td>\n",
       "      <td>27102</td>\n",
       "      <td>TEMPLETON RYE 4YR</td>\n",
       "      <td>750</td>\n",
       "      <td>18.09</td>\n",
       "      <td>27.14</td>\n",
       "      <td>6</td>\n",
       "      <td>162.84</td>\n",
       "    </tr>\n",
       "  </tbody>\n",
       "</table>\n",
       "</div>"
      ],
      "text/plain": [
       "       Invoice/Item Number        Date  Store Number  \\\n",
       "154781     INV-52884700159  11/09/2022          2642   \n",
       "154815     INV-55791600071  02/13/2023          3773   \n",
       "\n",
       "                             Store Name Zip Code          Category Name  \\\n",
       "154781  HY-VEE WINE AND SPIRITS / PELLA    50219  STRAIGHT RYE WHISKIES   \n",
       "154815                BENZ DISTRIBUTING    52401  STRAIGHT RYE WHISKIES   \n",
       "\n",
       "             Vendor Name  Item Number   Item Description  Bottle Volume (ml)  \\\n",
       "154781  INFINIUM SPIRITS        27175  TEMPLETON RYE 4YR                1000   \n",
       "154815  INFINIUM SPIRITS        27102  TEMPLETON RYE 4YR                 750   \n",
       "\n",
       "        State Bottle Cost  State Bottle Retail  Bottles Sold  Sale (Dollars)  \n",
       "154781              21.00                31.50             1           31.50  \n",
       "154815              18.09                27.14             6          162.84  "
      ]
     },
     "execution_count": 5,
     "metadata": {},
     "output_type": "execute_result"
    }
   ],
   "source": [
    "idf.loc[idf['Item Description'] == 'TEMPLETON RYE 4YR', :].tail(2)"
   ]
  },
  {
   "cell_type": "markdown",
   "id": "67df08d2",
   "metadata": {},
   "source": [
    "There are two ways to interpret \"the most profitable item\": on a volume basis and on a percentage basis.  \n",
    "1. Volume basis: Take the difference of the total revenue and total cost for each item across every invoice. That will show the total profit dollars generated by the item in Iowa during the time period.  \n",
    "  \n",
    "2. Percent basis: Take the average (Retail - Cost) / Retail for each item, which gives the highest percentage profitability by item, but does not account for sales volume.  \n",
    "  \n",
    "I am choosing Strategy #1, since Strategy #2 has the potential problem of identifying highly profitable but otherwise inconsequential SKUs.  \n",
    "\n",
    "To run these analyses, I need to group \"by item\". However, the same Item Description has the potential for multiple \"Bottle Volume (ml)\" sizes. So I want to base the analysis on Item Number, which will yield the most profitable item for the specific size of that item. This level makes sense to me because different size bottles have different cost inputs."
   ]
  },
  {
   "cell_type": "code",
   "execution_count": 6,
   "id": "118eed89",
   "metadata": {},
   "outputs": [],
   "source": [
    "# Create a total cost column\n",
    "idf['Order Total Cost'] = idf['Bottles Sold'] * idf['State Bottle Cost']"
   ]
  },
  {
   "cell_type": "code",
   "execution_count": 7,
   "id": "d234d9b7",
   "metadata": {},
   "outputs": [
    {
     "data": {
      "text/html": [
       "<div>\n",
       "<style scoped>\n",
       "    .dataframe tbody tr th:only-of-type {\n",
       "        vertical-align: middle;\n",
       "    }\n",
       "\n",
       "    .dataframe tbody tr th {\n",
       "        vertical-align: top;\n",
       "    }\n",
       "\n",
       "    .dataframe thead th {\n",
       "        text-align: right;\n",
       "    }\n",
       "</style>\n",
       "<table border=\"1\" class=\"dataframe\">\n",
       "  <thead>\n",
       "    <tr style=\"text-align: right;\">\n",
       "      <th></th>\n",
       "      <th>Sale (Dollars)</th>\n",
       "      <th>Order Total Cost</th>\n",
       "    </tr>\n",
       "    <tr>\n",
       "      <th>Item Number</th>\n",
       "      <th></th>\n",
       "      <th></th>\n",
       "    </tr>\n",
       "  </thead>\n",
       "  <tbody>\n",
       "    <tr>\n",
       "      <th>11788</th>\n",
       "      <td>563812.80</td>\n",
       "      <td>374395.20</td>\n",
       "    </tr>\n",
       "    <tr>\n",
       "      <th>38178</th>\n",
       "      <td>452920.03</td>\n",
       "      <td>302738.91</td>\n",
       "    </tr>\n",
       "    <tr>\n",
       "      <th>43337</th>\n",
       "      <td>361313.16</td>\n",
       "      <td>240740.62</td>\n",
       "    </tr>\n",
       "    <tr>\n",
       "      <th>38177</th>\n",
       "      <td>345115.92</td>\n",
       "      <td>230850.31</td>\n",
       "    </tr>\n",
       "    <tr>\n",
       "      <th>38176</th>\n",
       "      <td>263633.06</td>\n",
       "      <td>175680.68</td>\n",
       "    </tr>\n",
       "    <tr>\n",
       "      <th>26827</th>\n",
       "      <td>259608.91</td>\n",
       "      <td>172659.39</td>\n",
       "    </tr>\n",
       "    <tr>\n",
       "      <th>11297</th>\n",
       "      <td>257659.90</td>\n",
       "      <td>171827.14</td>\n",
       "    </tr>\n",
       "    <tr>\n",
       "      <th>88296</th>\n",
       "      <td>245889.66</td>\n",
       "      <td>163771.64</td>\n",
       "    </tr>\n",
       "    <tr>\n",
       "      <th>11296</th>\n",
       "      <td>240882.01</td>\n",
       "      <td>160812.17</td>\n",
       "    </tr>\n",
       "    <tr>\n",
       "      <th>1799</th>\n",
       "      <td>236672.51</td>\n",
       "      <td>158321.03</td>\n",
       "    </tr>\n",
       "    <tr>\n",
       "      <th>36308</th>\n",
       "      <td>201625.27</td>\n",
       "      <td>134348.71</td>\n",
       "    </tr>\n",
       "    <tr>\n",
       "      <th>26826</th>\n",
       "      <td>170119.04</td>\n",
       "      <td>113072.41</td>\n",
       "    </tr>\n",
       "    <tr>\n",
       "      <th>26828</th>\n",
       "      <td>169877.26</td>\n",
       "      <td>113433.28</td>\n",
       "    </tr>\n",
       "    <tr>\n",
       "      <th>48106</th>\n",
       "      <td>156991.70</td>\n",
       "      <td>105227.69</td>\n",
       "    </tr>\n",
       "    <tr>\n",
       "      <th>38008</th>\n",
       "      <td>148447.54</td>\n",
       "      <td>98854.29</td>\n",
       "    </tr>\n",
       "    <tr>\n",
       "      <th>10807</th>\n",
       "      <td>148435.18</td>\n",
       "      <td>99135.06</td>\n",
       "    </tr>\n",
       "    <tr>\n",
       "      <th>43338</th>\n",
       "      <td>144530.34</td>\n",
       "      <td>96251.46</td>\n",
       "    </tr>\n",
       "    <tr>\n",
       "      <th>64866</th>\n",
       "      <td>141345.47</td>\n",
       "      <td>94241.77</td>\n",
       "    </tr>\n",
       "    <tr>\n",
       "      <th>64867</th>\n",
       "      <td>138178.96</td>\n",
       "      <td>92132.55</td>\n",
       "    </tr>\n",
       "    <tr>\n",
       "      <th>15627</th>\n",
       "      <td>138084.64</td>\n",
       "      <td>92067.63</td>\n",
       "    </tr>\n",
       "  </tbody>\n",
       "</table>\n",
       "</div>"
      ],
      "text/plain": [
       "             Sale (Dollars)  Order Total Cost\n",
       "Item Number                                  \n",
       "11788             563812.80         374395.20\n",
       "38178             452920.03         302738.91\n",
       "43337             361313.16         240740.62\n",
       "38177             345115.92         230850.31\n",
       "38176             263633.06         175680.68\n",
       "26827             259608.91         172659.39\n",
       "11297             257659.90         171827.14\n",
       "88296             245889.66         163771.64\n",
       "11296             240882.01         160812.17\n",
       "1799              236672.51         158321.03\n",
       "36308             201625.27         134348.71\n",
       "26826             170119.04         113072.41\n",
       "26828             169877.26         113433.28\n",
       "48106             156991.70         105227.69\n",
       "38008             148447.54          98854.29\n",
       "10807             148435.18          99135.06\n",
       "43338             144530.34          96251.46\n",
       "64866             141345.47          94241.77\n",
       "64867             138178.96          92132.55\n",
       "15627             138084.64          92067.63"
      ]
     },
     "execution_count": 7,
     "metadata": {},
     "output_type": "execute_result"
    }
   ],
   "source": [
    "# Groupby and sum total sales and total cost\n",
    "grouped = (idf\n",
    " .loc[:,['Item Number', 'Sale (Dollars)', 'Order Total Cost']]\n",
    " .groupby('Item Number')\n",
    " .sum()\n",
    " .sort_values(by='Sale (Dollars)', ascending=False)\n",
    " .head(20)\n",
    ")\n",
    "grouped"
   ]
  },
  {
   "cell_type": "markdown",
   "id": "aaf285bb",
   "metadata": {},
   "source": [
    "After I tried to merge the Item Description to the Item Number, I realized that there could be multiple Item Descriptions for the same Item Number (e.g. \"Jack Daniels Black Label\" and \"Jack Daniels Black Lbl\"). I got ChatGPT to help me identify the most common Item Descriptions and Bottle Volumes, and merge into the table above."
   ]
  },
  {
   "cell_type": "code",
   "execution_count": 8,
   "id": "5e9979dc",
   "metadata": {},
   "outputs": [
    {
     "data": {
      "text/html": [
       "<div>\n",
       "<style scoped>\n",
       "    .dataframe tbody tr th:only-of-type {\n",
       "        vertical-align: middle;\n",
       "    }\n",
       "\n",
       "    .dataframe tbody tr th {\n",
       "        vertical-align: top;\n",
       "    }\n",
       "\n",
       "    .dataframe thead th {\n",
       "        text-align: right;\n",
       "    }\n",
       "</style>\n",
       "<table border=\"1\" class=\"dataframe\">\n",
       "  <thead>\n",
       "    <tr style=\"text-align: right;\">\n",
       "      <th></th>\n",
       "      <th>Item Number</th>\n",
       "      <th>Sale (Dollars)</th>\n",
       "      <th>Order Total Cost</th>\n",
       "      <th>Item Description</th>\n",
       "      <th>Bottle Volume (ml)</th>\n",
       "    </tr>\n",
       "  </thead>\n",
       "  <tbody>\n",
       "    <tr>\n",
       "      <th>0</th>\n",
       "      <td>11788</td>\n",
       "      <td>563812.80</td>\n",
       "      <td>374395.20</td>\n",
       "      <td>BLACK VELVET</td>\n",
       "      <td>1750</td>\n",
       "    </tr>\n",
       "    <tr>\n",
       "      <th>1</th>\n",
       "      <td>38178</td>\n",
       "      <td>452920.03</td>\n",
       "      <td>302738.91</td>\n",
       "      <td>TITOS HANDMADE VODKA</td>\n",
       "      <td>1750</td>\n",
       "    </tr>\n",
       "    <tr>\n",
       "      <th>2</th>\n",
       "      <td>43337</td>\n",
       "      <td>361313.16</td>\n",
       "      <td>240740.62</td>\n",
       "      <td>CAPTAIN MORGAN SPICED RUM</td>\n",
       "      <td>1000</td>\n",
       "    </tr>\n",
       "    <tr>\n",
       "      <th>3</th>\n",
       "      <td>38177</td>\n",
       "      <td>345115.92</td>\n",
       "      <td>230850.31</td>\n",
       "      <td>TITOS HANDMADE VODKA</td>\n",
       "      <td>1000</td>\n",
       "    </tr>\n",
       "    <tr>\n",
       "      <th>4</th>\n",
       "      <td>38176</td>\n",
       "      <td>263633.06</td>\n",
       "      <td>175680.68</td>\n",
       "      <td>TITOS HANDMADE VODKA</td>\n",
       "      <td>750</td>\n",
       "    </tr>\n",
       "    <tr>\n",
       "      <th>5</th>\n",
       "      <td>26827</td>\n",
       "      <td>259608.91</td>\n",
       "      <td>172659.39</td>\n",
       "      <td>JACK DANIELS OLD #7 BLACK LBL</td>\n",
       "      <td>1000</td>\n",
       "    </tr>\n",
       "    <tr>\n",
       "      <th>6</th>\n",
       "      <td>11297</td>\n",
       "      <td>257659.90</td>\n",
       "      <td>171827.14</td>\n",
       "      <td>CROWN ROYAL CANADIAN WHISKY</td>\n",
       "      <td>1000</td>\n",
       "    </tr>\n",
       "    <tr>\n",
       "      <th>7</th>\n",
       "      <td>88296</td>\n",
       "      <td>245889.66</td>\n",
       "      <td>163771.64</td>\n",
       "      <td>PATRON TEQUILA SILVER</td>\n",
       "      <td>750</td>\n",
       "    </tr>\n",
       "    <tr>\n",
       "      <th>8</th>\n",
       "      <td>11296</td>\n",
       "      <td>240882.01</td>\n",
       "      <td>160812.17</td>\n",
       "      <td>CROWN ROYAL</td>\n",
       "      <td>750</td>\n",
       "    </tr>\n",
       "    <tr>\n",
       "      <th>9</th>\n",
       "      <td>1799</td>\n",
       "      <td>236672.51</td>\n",
       "      <td>158321.03</td>\n",
       "      <td>CAPTAIN MORGAN SPICED BARREL</td>\n",
       "      <td>1750</td>\n",
       "    </tr>\n",
       "    <tr>\n",
       "      <th>10</th>\n",
       "      <td>36308</td>\n",
       "      <td>201625.27</td>\n",
       "      <td>134348.71</td>\n",
       "      <td>HAWKEYE VODKA</td>\n",
       "      <td>1750</td>\n",
       "    </tr>\n",
       "    <tr>\n",
       "      <th>11</th>\n",
       "      <td>26826</td>\n",
       "      <td>170119.04</td>\n",
       "      <td>113072.41</td>\n",
       "      <td>JACK DANIELS OLD #7 BLACK LABEL</td>\n",
       "      <td>750</td>\n",
       "    </tr>\n",
       "    <tr>\n",
       "      <th>12</th>\n",
       "      <td>26828</td>\n",
       "      <td>169877.26</td>\n",
       "      <td>113433.28</td>\n",
       "      <td>JACK DANIELS OLD #7 BLACK LABEL</td>\n",
       "      <td>1750</td>\n",
       "    </tr>\n",
       "    <tr>\n",
       "      <th>13</th>\n",
       "      <td>48106</td>\n",
       "      <td>156991.70</td>\n",
       "      <td>105227.69</td>\n",
       "      <td>HENNESSY VS</td>\n",
       "      <td>750</td>\n",
       "    </tr>\n",
       "    <tr>\n",
       "      <th>14</th>\n",
       "      <td>38008</td>\n",
       "      <td>148447.54</td>\n",
       "      <td>98854.29</td>\n",
       "      <td>SMIRNOFF 80PRF PET</td>\n",
       "      <td>1750</td>\n",
       "    </tr>\n",
       "    <tr>\n",
       "      <th>15</th>\n",
       "      <td>10807</td>\n",
       "      <td>148435.18</td>\n",
       "      <td>99135.06</td>\n",
       "      <td>CROWN ROYAL REGAL APPLE</td>\n",
       "      <td>750</td>\n",
       "    </tr>\n",
       "    <tr>\n",
       "      <th>16</th>\n",
       "      <td>43338</td>\n",
       "      <td>144530.34</td>\n",
       "      <td>96251.46</td>\n",
       "      <td>CAPTAIN MORGAN SPICED RUM</td>\n",
       "      <td>1750</td>\n",
       "    </tr>\n",
       "    <tr>\n",
       "      <th>17</th>\n",
       "      <td>64866</td>\n",
       "      <td>141345.47</td>\n",
       "      <td>94241.77</td>\n",
       "      <td>FIREBALL CINNAMON WHISKEY</td>\n",
       "      <td>750</td>\n",
       "    </tr>\n",
       "    <tr>\n",
       "      <th>18</th>\n",
       "      <td>64867</td>\n",
       "      <td>138178.96</td>\n",
       "      <td>92132.55</td>\n",
       "      <td>FIREBALL CINNAMON WHISKEY</td>\n",
       "      <td>1000</td>\n",
       "    </tr>\n",
       "    <tr>\n",
       "      <th>19</th>\n",
       "      <td>15627</td>\n",
       "      <td>138084.64</td>\n",
       "      <td>92067.63</td>\n",
       "      <td>JAMESON</td>\n",
       "      <td>1000</td>\n",
       "    </tr>\n",
       "  </tbody>\n",
       "</table>\n",
       "</div>"
      ],
      "text/plain": [
       "    Item Number  Sale (Dollars)  Order Total Cost  \\\n",
       "0         11788       563812.80         374395.20   \n",
       "1         38178       452920.03         302738.91   \n",
       "2         43337       361313.16         240740.62   \n",
       "3         38177       345115.92         230850.31   \n",
       "4         38176       263633.06         175680.68   \n",
       "5         26827       259608.91         172659.39   \n",
       "6         11297       257659.90         171827.14   \n",
       "7         88296       245889.66         163771.64   \n",
       "8         11296       240882.01         160812.17   \n",
       "9          1799       236672.51         158321.03   \n",
       "10        36308       201625.27         134348.71   \n",
       "11        26826       170119.04         113072.41   \n",
       "12        26828       169877.26         113433.28   \n",
       "13        48106       156991.70         105227.69   \n",
       "14        38008       148447.54          98854.29   \n",
       "15        10807       148435.18          99135.06   \n",
       "16        43338       144530.34          96251.46   \n",
       "17        64866       141345.47          94241.77   \n",
       "18        64867       138178.96          92132.55   \n",
       "19        15627       138084.64          92067.63   \n",
       "\n",
       "                   Item Description  Bottle Volume (ml)  \n",
       "0                      BLACK VELVET                1750  \n",
       "1              TITOS HANDMADE VODKA                1750  \n",
       "2         CAPTAIN MORGAN SPICED RUM                1000  \n",
       "3              TITOS HANDMADE VODKA                1000  \n",
       "4              TITOS HANDMADE VODKA                 750  \n",
       "5     JACK DANIELS OLD #7 BLACK LBL                1000  \n",
       "6       CROWN ROYAL CANADIAN WHISKY                1000  \n",
       "7             PATRON TEQUILA SILVER                 750  \n",
       "8                       CROWN ROYAL                 750  \n",
       "9      CAPTAIN MORGAN SPICED BARREL                1750  \n",
       "10                    HAWKEYE VODKA                1750  \n",
       "11  JACK DANIELS OLD #7 BLACK LABEL                 750  \n",
       "12  JACK DANIELS OLD #7 BLACK LABEL                1750  \n",
       "13                      HENNESSY VS                 750  \n",
       "14               SMIRNOFF 80PRF PET                1750  \n",
       "15          CROWN ROYAL REGAL APPLE                 750  \n",
       "16        CAPTAIN MORGAN SPICED RUM                1750  \n",
       "17        FIREBALL CINNAMON WHISKEY                 750  \n",
       "18        FIREBALL CINNAMON WHISKEY                1000  \n",
       "19                          JAMESON                1000  "
      ]
     },
     "execution_count": 8,
     "metadata": {},
     "output_type": "execute_result"
    }
   ],
   "source": [
    "# Find the most common Item descriptions for each Item number\n",
    "desc_lookup = (\n",
    "    idf.groupby(['Item Number', 'Item Description'])\n",
    "    .size()\n",
    "    .reset_index(name='count')\n",
    "    .sort_values(['Item Number', 'count'], ascending=[True, False])\n",
    "    .drop_duplicates('Item Number')\n",
    "    [['Item Number', 'Item Description']]\n",
    ")\n",
    "\n",
    "# Same for bottle volume\n",
    "vol_lookup = (\n",
    "    idf.groupby(['Item Number', 'Bottle Volume (ml)'])\n",
    "    .size()\n",
    "    .reset_index(name='count')\n",
    "    .sort_values(['Item Number', 'count'], ascending=[True, False])\n",
    "    .drop_duplicates('Item Number')\n",
    "    [['Item Number', 'Bottle Volume (ml)']]\n",
    ")\n",
    "\n",
    "# Merge the two, then merge back into grouped result\n",
    "lookup = desc_lookup.merge(vol_lookup, on='Item Number', how='outer')\n",
    "\n",
    "result = grouped.merge(lookup, on='Item Number', how='left')\n",
    "result"
   ]
  },
  {
   "cell_type": "code",
   "execution_count": 9,
   "id": "d93c8945",
   "metadata": {},
   "outputs": [],
   "source": [
    "# Add total profit column\n",
    "result['Total Profit'] = result['Sale (Dollars)'] - result['Order Total Cost']\n",
    "result['Item Label'] = result['Item Description'].str.capitalize() + \" (\" + result['Bottle Volume (ml)'].astype(str) + \" ml)\""
   ]
  },
  {
   "cell_type": "markdown",
   "id": "460b0012",
   "metadata": {},
   "source": [
    "According to the chart, Black Velvet (1750 ml) generated the most profit dollars in Iowa during this time period, with nearly $200,000 in profit. Rounding out the top 3 are Titos and Captain Morgan, before the other volume sizes for Titos comes into the mix."
   ]
  },
  {
   "cell_type": "code",
   "execution_count": 10,
   "id": "aa5322a3",
   "metadata": {},
   "outputs": [
    {
     "data": {
      "text/plain": [
       "<Axes: xlabel='Total Profit', ylabel='Item Label'>"
      ]
     },
     "execution_count": 10,
     "metadata": {},
     "output_type": "execute_result"
    },
    {
     "data": {
      "image/png": "[encoded data removed]",
      "text/plain": [
       "<Figure size 640x480 with 1 Axes>"
      ]
     },
     "metadata": {},
     "output_type": "display_data"
    }
   ],
   "source": [
    "sns.barplot(data=result, x='Total Profit', y='Item Label', orient='h')"
   ]
  },
  {
   "cell_type": "markdown",
   "id": "63593bde",
   "metadata": {},
   "source": [
    "2. This question is to further explore broadcasting in NumPy.\n",
    "\n",
    "- In the first code chunk below, there are two vectors, $x$ and $y$. What happens when you try to subtract them?\n",
    "- Instead, try `x.reshape(-1,1)-y.reshape(1,-1)`. What do you get?\n",
    "- Try `x.reshape(1,-1)-y.reshape(-1,1)`. Compare the results to your previous answer.\n",
    "- Write two double for-loops to replicate the results of the previous two answers. \n",
    "- Clearly explain how `x.reshape(1,-1)` and `x.reshape(-1,1)` change $x$"
   ]
  },
  {
   "cell_type": "code",
   "execution_count": 11,
   "id": "e29b3aac",
   "metadata": {},
   "outputs": [],
   "source": [
    "import numpy as np\n",
    "\n",
    "x = np.array([1,3,5])\n",
    "y = np.array([2,5])"
   ]
  },
  {
   "cell_type": "markdown",
   "id": "7b3fc6e2",
   "metadata": {},
   "source": [
    "Python throws an error, saying the operands could not be broadcast together with their different shapes:"
   ]
  },
  {
   "cell_type": "code",
   "execution_count": 12,
   "id": "d79e0764",
   "metadata": {},
   "outputs": [
    {
     "ename": "ValueError",
     "evalue": "operands could not be broadcast together with shapes (2,) (3,) ",
     "output_type": "error",
     "traceback": [
      "\u001b[31m---------------------------------------------------------------------------\u001b[39m",
      "\u001b[31mValueError\u001b[39m                                Traceback (most recent call last)",
      "\u001b[36mCell\u001b[39m\u001b[36m \u001b[39m\u001b[32mIn[12]\u001b[39m\u001b[32m, line 1\u001b[39m\n\u001b[32m----> \u001b[39m\u001b[32m1\u001b[39m \u001b[43my\u001b[49m\u001b[43m \u001b[49m\u001b[43m-\u001b[49m\u001b[43m \u001b[49m\u001b[43mx\u001b[49m \u001b[38;5;66;03m# Same result for x - y\u001b[39;00m\n",
      "\u001b[31mValueError\u001b[39m: operands could not be broadcast together with shapes (2,) (3,) "
     ]
    }
   ],
   "source": [
    "y - x # Same result for x - y"
   ]
  },
  {
   "cell_type": "markdown",
   "id": "81e4e990",
   "metadata": {},
   "source": [
    "x.reshape(-1, 1) - y.reshape(1, -1) yielded a 3 x 2 matrix in which the row vector y was subtracted from x, where x was transformed into a 3 x 2 matrix with duplicate columns."
   ]
  },
  {
   "cell_type": "code",
   "execution_count": null,
   "id": "7a987fa1",
   "metadata": {},
   "outputs": [
    {
     "data": {
      "text/plain": [
       "array([[-1, -4],\n",
       "       [ 1, -2],\n",
       "       [ 3,  0]])"
      ]
     },
     "execution_count": 79,
     "metadata": {},
     "output_type": "execute_result"
    }
   ],
   "source": [
    "x.reshape(-1, 1) - y.reshape(1, -1)"
   ]
  },
  {
   "cell_type": "markdown",
   "id": "b1de1ee8",
   "metadata": {},
   "source": [
    "x.reshape(1, -1) - y.reshape(1, -1) yielded a 2 x 3 matrix in which the column vector y was subtracted from a 2 x 3 matrix X that had duplicate rows."
   ]
  },
  {
   "cell_type": "code",
   "execution_count": null,
   "id": "dfdac11b",
   "metadata": {},
   "outputs": [
    {
     "data": {
      "text/plain": [
       "array([[-1,  1,  3],\n",
       "       [-4, -2,  0]])"
      ]
     },
     "execution_count": 80,
     "metadata": {},
     "output_type": "execute_result"
    }
   ],
   "source": [
    "x.reshape(1, -1) - y.reshape(-1, 1)"
   ]
  },
  {
   "cell_type": "markdown",
   "id": "5d795704",
   "metadata": {},
   "source": [
    "Double for loops"
   ]
  },
  {
   "cell_type": "code",
   "execution_count": null,
   "id": "b20700b1",
   "metadata": {},
   "outputs": [
    {
     "name": "stdout",
     "output_type": "stream",
     "text": [
      "[[-1. -4.]\n",
      " [ 1. -2.]\n",
      " [ 3.  0.]]\n"
     ]
    }
   ],
   "source": [
    "three_by_two = np.zeros((len(x), len(y)))\n",
    "for i in range(len(x)):\n",
    "    for j in range(len(y)):\n",
    "        three_by_two[i, j] = x[i] - y[j]\n",
    "print(three_by_two)"
   ]
  },
  {
   "cell_type": "code",
   "execution_count": null,
   "id": "7d980326",
   "metadata": {},
   "outputs": [
    {
     "name": "stdout",
     "output_type": "stream",
     "text": [
      "[[-1.  1.  3.]\n",
      " [-4. -2.  0.]]\n"
     ]
    }
   ],
   "source": [
    "two_by_three = np.zeros((len(y), len(x)))\n",
    "for j in range(len(y)):\n",
    "    for i in range(len(x)):\n",
    "        two_by_three[j, i] = x[i] - y[j]\n",
    "print(two_by_three)"
   ]
  },
  {
   "cell_type": "markdown",
   "id": "f3b4825c",
   "metadata": {},
   "source": [
    "`x.reshape(1,-1)` changes $x$ from a one-dimensional array into a 2-dimensional array with 1 row and 3 columns. Alternatively, `x.reshape(-1,1)` reshapes $x$ into a 2-dimensional array with 3 rows and 1 column. This is essential for broadcasting, since you cannot broadcast across a flat array."
   ]
  },
  {
   "cell_type": "markdown",
   "id": "b29f1d35",
   "metadata": {},
   "source": [
    "3. The indicator function $\\mathbb{I}\\{ x \\le z \\}$ takes the value 0 if $x>z$ and 1 if $x \\le z$ is true, or\n",
    "$$\n",
    "\\mathbb{I}\\{x \\le z\\} = \\begin{cases}\n",
    "0, &x > z \\\\\n",
    "1, &x \\le z\n",
    "\\end{cases}\n",
    "$$\n",
    "\n",
    "- For $x = 3$, plot the indicator function for any $z$\n",
    "- Explain how $ 1- \\mathbb{I}\\{ x \\le z \\} = \\mathbb{I}\\{ x > z \\}$. Drawing a plot might help, or looking at the definition given above.\n",
    "- The code below generates a random sample for different numbers of observations, $N = 3, 30, 300, 3000 $. Write a function to compute the ECDF curve for each sample, and plot your results.\n",
    "- Describe in your own words what happens to the ECDF qualitatively as the sample size $N$ increases"
   ]
  },
  {
   "cell_type": "code",
   "execution_count": null,
   "id": "b7bf5a13",
   "metadata": {},
   "outputs": [],
   "source": [
    "x = 3\n",
    "grid = np.linspace(-100, 100, 201)\n",
    "ecdf = 0 * grid.copy()\n",
    "\n",
    "def indicate(x, grid):\n",
    "    return x <= grid\n",
    "\n",
    "indicator = indicate(x, grid)"
   ]
  },
  {
   "cell_type": "markdown",
   "id": "6c2c91bb",
   "metadata": {},
   "source": [
    "I only graphed -100 <= z <= 100, but the value of the indicator maintains its values to positive and negatitive infinity."
   ]
  },
  {
   "cell_type": "code",
   "execution_count": null,
   "id": "59bfbd35",
   "metadata": {},
   "outputs": [
    {
     "data": {
      "text/plain": [
       "<Axes: >"
      ]
     },
     "execution_count": 71,
     "metadata": {},
     "output_type": "execute_result"
    },
    {
     "data": {
      "image/png": "[encoded data removed]",
      "text/plain": [
       "<Figure size 640x480 with 1 Axes>"
      ]
     },
     "metadata": {},
     "output_type": "display_data"
    }
   ],
   "source": [
    "sns.lineplot(x=grid, y=indicator)"
   ]
  },
  {
   "cell_type": "markdown",
   "id": "8e407490",
   "metadata": {},
   "source": [
    "This function $ 1- \\mathbb{I}\\{ x \\le z \\}$ sets the indicator to True (1) when previously it was False; and False (0) where previously it was True.  \n",
    "\n",
    "I graphed the reverse indicator below. The graph shows the indicator function takes on False (0) for grid values greater than or equal to 3, and True (1) values for grid values less than 3. When you compare it with the graph above, it makes sense. If you think of it as \"1 minus the above graph\", it is 0 when the above graph is 1, and 1 when it is 0. "
   ]
  },
  {
   "cell_type": "code",
   "execution_count": null,
   "id": "10740a0b",
   "metadata": {},
   "outputs": [
    {
     "data": {
      "text/plain": [
       "<Axes: >"
      ]
     },
     "execution_count": 72,
     "metadata": {},
     "output_type": "execute_result"
    },
    {
     "data": {
      "image/png": "[encoded data removed]",
      "text/plain": [
       "<Figure size 640x480 with 1 Axes>"
      ]
     },
     "metadata": {},
     "output_type": "display_data"
    }
   ],
   "source": [
    "def reverse_indicate(x, grid):\n",
    "    return 1 - (x <= grid)\n",
    "\n",
    "reverse_indicator = reverse_indicate(x, grid)\n",
    "sns.lineplot(x=grid, y=reverse_indicator)"
   ]
  },
  {
   "cell_type": "code",
   "execution_count": null,
   "id": "e413bc3e",
   "metadata": {},
   "outputs": [
    {
     "data": {
      "image/png": "[encoded data removed]",
      "text/plain": [
       "<Figure size 640x480 with 1 Axes>"
      ]
     },
     "metadata": {},
     "output_type": "display_data"
    }
   ],
   "source": [
    "rng = np.random.default_rng(100)\n",
    "\n",
    "for N in (3,30,300,3000):\n",
    "    X = rng.normal(0,1,N)\n",
    "    # ECDF plot goes here:\n",
    "    Z = np.sort(np.unique(X))\n",
    "    compare = X.reshape(-1, 1) <= Z.reshape(1, -1)\n",
    "\n",
    "    ecdf = np.mean(compare, axis=0)\n",
    "\n",
    "    sns.lineplot(x=Z, y=ecdf)"
   ]
  },
  {
   "cell_type": "code",
   "execution_count": null,
   "id": "17ad7d01",
   "metadata": {},
   "outputs": [
    {
     "data": {
      "image/png": "[encoded data removed]",
      "text/plain": [
       "<Figure size 640x480 with 1 Axes>"
      ]
     },
     "metadata": {},
     "output_type": "display_data"
    }
   ],
   "source": [
    "# I also tried it doing Manual Grid setup\n",
    "# The starkest difference is in the curve with 3 data points. The grid covers for non-existent data.\n",
    "\n",
    "rng = np.random.default_rng(100)\n",
    "\n",
    "for N in (3,30,300,3000):\n",
    "    X = rng.normal(0,1,N)\n",
    "    # ECDF plot goes here:\n",
    "    grid = np.linspace(-3, 3, 100)\n",
    "    ecdf = 0 * grid.copy()\n",
    "    for i in range(len(X)):\n",
    "        F_i = indicate(X[i], grid)\n",
    "        ecdf += F_i\n",
    "    ecdf = ecdf / len(X)\n",
    "    sns.lineplot(x=grid, y=ecdf)"
   ]
  },
  {
   "cell_type": "markdown",
   "id": "47199434",
   "metadata": {},
   "source": [
    "The ECDF curves get smoother as the sample sizes increase. This makes intuitive sense. When n = 3, the curve jumps 33% each time a data point is reached as you iterate along the array. The smoothest curve, the red one in the image, has the most data points. In this situation the curve jumps only an incremental amount each time a new data point is reached as you iterate over the array."
   ]
  },
  {
   "cell_type": "markdown",
   "id": "6c8f1ebb",
   "metadata": {},
   "source": [
    "4. A **quantile** generalizes the concept of the median so that instead of 50% of the mass below and 50% above, the $q$-quantile is the value for which $q$ proportion of the data are below that value and $(1-q)$ proportion of the data are above that value. This is a concept of **order**.\n",
    "\n",
    "- Write a function that computes any quantile without using Numpy's `np.quantile`\n",
    "- Write a function that computes the **Interquartile Range (IQR)** -- the .25 quantile and the .75 quantile, which brackets 50% of the data -- and the **whiskers**: $\\pm 1.5 \\times \\text{IQR}$ from the edges of the IQR\n",
    "- Write a function that computes a five-number summary and values for a boxplot: the minimum, the .25 quantile, the median, the .75 quantile, and the maximum, and the whiskers\n",
    "- Anything outside the whiskers is an **outlier**; write a function that returns a Boolean vector indicating if the observations are outliers.\n",
    "- For a numeric variable of your choice from one of the datasets, apply your functions from above, and compare your answers with `sns.boxplot` and `df.describe`. "
   ]
  },
  {
   "cell_type": "code",
   "execution_count": 16,
   "id": "40e884a0",
   "metadata": {},
   "outputs": [],
   "source": [
    "# Get quantile by using ECDF\n",
    "def quantile(x, quantile):\n",
    "    # ECDF\n",
    "    z = np.sort(x.unique())\n",
    "    compare = x.to_numpy().reshape(-1, 1) <= z.reshape(1, -1)\n",
    "    ecdf = np.mean(compare, axis=0)\n",
    "\n",
    "    # Get the quantile\n",
    "    distance = (ecdf - quantile) ** 2\n",
    "    meds = np.where(distance == distance.min())\n",
    "    return np.mean(z[meds])\n",
    "\n",
    "# Get IQR\n",
    "def IQR(x):\n",
    "    first_quartile = quantile(x, 0.25)\n",
    "    third_quartile = quantile(x, 0.75)\n",
    "    interquartile_range = third_quartile - first_quartile\n",
    "    low_whisker = first_quartile - (interquartile_range * 1.5)\n",
    "    high_whisker = third_quartile + (interquartile_range * 1.5)\n",
    "    return interquartile_range, low_whisker, first_quartile, third_quartile, high_whisker\n",
    "\n",
    "# Get five number summary\n",
    "def five_number_summary(x):\n",
    "    interquartile_range, low_whisker, first_quartile, third_quartile, high_whisker = IQR(x)\n",
    "    minimum = quantile(x, 0)\n",
    "    median = quantile(x, 0.5)\n",
    "    maximum = quantile(x, 1)\n",
    "    print(\n",
    "        f'Minimum: {minimum}',\n",
    "        f'0.25 quantile: {first_quartile}',\n",
    "        f'Median: {median}',\n",
    "        f'0.75 quantile: {third_quartile}',\n",
    "        f'Maximum: {maximum}',\n",
    "        f'Lower whisker: {low_whisker}',\n",
    "        f'Upper whisker: {high_whisker}',\n",
    "        sep='\\n')\n",
    "    return minimum, first_quartile, median, third_quartile, maximum, low_whisker, high_whisker\n",
    "\n",
    "# Get outliers\n",
    "def outliers(x):\n",
    "    _, low_whisker, _, _, high_whisker = IQR(x)\n",
    "    low_outlier = x.to_numpy() < low_whisker\n",
    "    high_outlier = x.to_numpy() > high_whisker\n",
    "    return low_outlier + high_outlier"
   ]
  },
  {
   "cell_type": "code",
   "execution_count": 17,
   "id": "ea3e1588",
   "metadata": {},
   "outputs": [
    {
     "name": "stdout",
     "output_type": "stream",
     "text": [
      "Minimum: 0.0\n",
      "0.25 quantile: 8.66\n",
      "Median: 12.99\n",
      "0.75 quantile: 19.92\n",
      "Maximum: 3448.26\n",
      "Lower whisker: -8.23\n",
      "Upper whisker: 36.81\n"
     ]
    },
    {
     "data": {
      "text/plain": [
       "count    159904.000000\n",
       "mean         16.480350\n",
       "std          17.099067\n",
       "min           0.000000\n",
       "25%           8.670000\n",
       "50%          12.990000\n",
       "75%          19.920000\n",
       "max        3448.260000\n",
       "Name: State Bottle Retail, dtype: float64"
      ]
     },
     "execution_count": 17,
     "metadata": {},
     "output_type": "execute_result"
    },
    {
     "data": {
      "image/png": "[encoded data removed]",
      "text/plain": [
       "<Figure size 640x480 with 1 Axes>"
      ]
     },
     "metadata": {},
     "output_type": "display_data"
    }
   ],
   "source": [
    "# Analyze retail cost of alcohol sales\n",
    "quantile(idf['State Bottle Retail'], 0.5)\n",
    "five_number_summary(idf['State Bottle Retail'])\n",
    "outliers(idf['State Bottle Retail'])\n",
    "\n",
    "# Compare with built-in functions\n",
    "sns.boxplot(idf['State Bottle Retail'])\n",
    "idf['State Bottle Retail'].describe()"
   ]
  },
  {
   "cell_type": "markdown",
   "id": "bc4a7049",
   "metadata": {},
   "source": [
    "The numbers are identical, except for three points:\n",
    "- 0.25 quantile differs by 0.01\n",
    "- Summarize does not have data points for the upper or lower whisker"
   ]
  },
  {
   "cell_type": "markdown",
   "id": "99f4c407",
   "metadata": {},
   "source": [
    "5. The kernel density estimator captures the concentration of the data around various points, and is defined as\n",
    "$$\n",
    "\\hat{f}_{N,h}(z) = \\frac{1}{N} \\sum_{i=1}^N \\frac{1}{h} k \\left( \\frac{x_i - z}{h}\\right)\n",
    "$$\n",
    "where $h$ is the bandwidth and $k()$ is one of the kernel functions from the class materials (Gaussian, Epanechnikov, uniform, triangular).\n",
    "\n",
    "- Write a function that takes the bandwidth $h$ as given, and computes and plots $\\hat{f}_{N,h}(z)$, for the kernels listed in the slides\n",
    "- Write a function that computes the plug-in bandwidth\n",
    "- Use your functions to analyze some numeric variables from a dataset of your choice, using a variety of bandwidths\n",
    "- Compare bandwidths that are greater or less than the plug-in value with the results for the plug-in value. When does the KDE appear to be overfitting? Underfitting?"
   ]
  },
  {
   "cell_type": "markdown",
   "id": "a4a5b9f5",
   "metadata": {},
   "source": []
  }
 ],
 "metadata": {
  "kernelspec": {
   "display_name": "ds6001",
   "language": "python",
   "name": "python3"
  },
  "language_info": {
   "codemirror_mode": {
    "name": "ipython",
    "version": 3
   },
   "file_extension": ".py",
   "mimetype": "text/x-python",
   "name": "python",
   "nbconvert_exporter": "python",
   "pygments_lexer": "ipython3",
   "version": "3.13.5"
  }
 },
 "nbformat": 4,
 "nbformat_minor": 5
}
